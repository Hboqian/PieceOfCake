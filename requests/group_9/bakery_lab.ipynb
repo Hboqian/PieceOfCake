{
 "cells": [
  {
   "cell_type": "code",
   "id": "initial_id",
   "metadata": {
    "collapsed": true,
    "ExecuteTime": {
     "end_time": "2024-10-25T17:34:43.925067Z",
     "start_time": "2024-10-25T17:34:43.920033Z"
    }
   },
   "source": [
    "cake_length, cake_width = (17.69, 28.3)\n",
    "area = 500.62700000000007\n",
    "requests =  [33.54, 36.86, 83.28, 18.27, 91.04, 48.52, 75.42, 90.13]\n",
    "\n",
    "requests.sort(reverse=True)\n",
    "\n",
    "noise = 0.04\n",
    "perc_area = [(r + (noise * r)) / area for r in requests]\n",
    "\n",
    "x_width = []\n",
    "prev_x = 0 \n",
    "for frac in perc_area: \n",
    "    next_x = round(cake_width * frac, 3) \n",
    "    x_width.append(round(prev_x+next_x, 3) )\n",
    "    prev_x = prev_x+next_x\n",
    "    \n",
    "coord_width = [(x_coord, 0) for x_coord in x_width]\n",
    "coord_length = [(x_coord, cake_length) for x_coord in x_width]\n",
    "combined_list = [val for pair in zip(coord_width, coord_length) for val in pair]\n",
    "print(combined_list)"
   ],
   "outputs": [
    {
     "name": "stdout",
     "output_type": "stream",
     "text": [
      "0 5.352\n",
      "5.352 5.299\n",
      "10.651 4.896\n",
      "15.547 4.434\n",
      "19.981 2.853\n",
      "22.834000000000003 2.167\n",
      "25.001000000000005 1.972\n",
      "26.973000000000006 1.074\n",
      "[(5.352, 0), (5.352, 17.69), (10.651, 0), (10.651, 17.69), (15.547, 0), (15.547, 17.69), (19.981, 0), (19.981, 17.69), (22.834, 0), (22.834, 17.69), (25.001, 0), (25.001, 17.69), (26.973, 0), (26.973, 17.69), (28.047, 0), (28.047, 17.69)]\n"
     ]
    }
   ],
   "execution_count": 61
  },
  {
   "metadata": {
    "ExecuteTime": {
     "end_time": "2024-10-25T17:32:11.110152Z",
     "start_time": "2024-10-25T17:32:11.107848Z"
    }
   },
   "cell_type": "code",
   "source": [
    "print(sum(perc_area), perc_area)\n",
    "print(sum(x_width), cake_width, x_width)"
   ],
   "id": "6d4e978afa80c314",
   "outputs": [
    {
     "name": "stdout",
     "output_type": "stream",
     "text": [
      "0.9910420332902539 [0.18912603595091754, 0.18723560654938703, 0.17300545116424002, 0.15667712688288885, 0.10079520281566914, 0.07657277773671815, 0.06967582651355199, 0.03795400567688118]\n",
      "28.047 28.3 [5.352, 5.299, 4.896, 4.434, 2.853, 2.167, 1.972, 1.074]\n"
     ]
    }
   ],
   "execution_count": 57
  },
  {
   "metadata": {
    "ExecuteTime": {
     "end_time": "2024-10-25T18:05:13.086239Z",
     "start_time": "2024-10-25T18:05:13.081963Z"
    }
   },
   "cell_type": "code",
   "source": [
    "o1 = [1, 7, 13]\n",
    "o2 = [2, 8, 14]\n",
    "b1 = [4, 10, 16]\n",
    "b2 = [5, 11, 17]\n",
    "\n",
    "for val in o1:\n",
    "    order = (val - 1) % 6\n",
    "    print(order)\n",
    "\n",
    "for val in o2:\n",
    "    order = (val - 2) % 6\n",
    "    print(order)\n",
    "    \n",
    "print(\" \")\n",
    "\n",
    "o1 = [1, 7, 13]\n",
    "o2 = [2, 8, 14]\n",
    "b1 = [4, 10, 16]\n",
    "b2 = [5, 11, 17]\n",
    "\n",
    "for val in b1:\n",
    "    order = (val - 4) % 6\n",
    "    print(order)\n",
    "\n",
    "for val in b2:\n",
    "    order = (val - 5) % 6\n",
    "    print(order)\n",
    "\n",
    "print(\" \")"
   ],
   "id": "c0472181772fabed",
   "outputs": [
    {
     "name": "stdout",
     "output_type": "stream",
     "text": [
      "1\n",
      "2\n",
      "3\n",
      "2\n",
      "0\n",
      "2\n",
      " \n",
      "0\n",
      "0\n",
      "0\n",
      "0\n",
      "0\n",
      "0\n",
      " \n"
     ]
    }
   ],
   "execution_count": 77
  },
  {
   "metadata": {},
   "cell_type": "code",
   "outputs": [],
   "execution_count": null,
   "source": [
    "for val in o1:\n",
    "    order = (val - 1) % 6\n",
    "    print(order)\n",
    "\n",
    "for val in o2:\n",
    "    order = (val - 2) % 6\n",
    "    print(order)\n",
    "    \n",
    "print(\" \")\n",
    "\n",
    "o1 = [1, 7, 13]\n",
    "o2 = [2, 8, 14]\n",
    "b1 = [4, 10, 16]\n",
    "b2 = [5, 11, 17]\n",
    "\n",
    "for val in b1:\n",
    "    order = (val - 4) % 6\n",
    "    print(order)\n",
    "\n",
    "for val in b2:\n",
    "    order = (val - 5) % 6\n",
    "    print(order)\n"
   ],
   "id": "8c7711811cd60a0b"
  },
  {
   "metadata": {},
   "cell_type": "code",
   "outputs": [],
   "execution_count": null,
   "source": "",
   "id": "ce48745aed9bfb21"
  }
 ],
 "metadata": {
  "kernelspec": {
   "display_name": "Python 3",
   "language": "python",
   "name": "python3"
  },
  "language_info": {
   "codemirror_mode": {
    "name": "ipython",
    "version": 2
   },
   "file_extension": ".py",
   "mimetype": "text/x-python",
   "name": "python",
   "nbconvert_exporter": "python",
   "pygments_lexer": "ipython2",
   "version": "2.7.6"
  }
 },
 "nbformat": 4,
 "nbformat_minor": 5
}
