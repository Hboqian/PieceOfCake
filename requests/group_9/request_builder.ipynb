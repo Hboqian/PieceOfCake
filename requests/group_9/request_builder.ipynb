{
 "cells": [
  {
   "cell_type": "code",
   "id": "initial_id",
   "metadata": {
    "collapsed": true,
    "ExecuteTime": {
     "end_time": "2024-10-23T03:30:49.559425Z",
     "start_time": "2024-10-23T03:30:49.556683Z"
    }
   },
   "source": "import numpy as np",
   "outputs": [],
   "execution_count": 4
  },
  {
   "metadata": {
    "ExecuteTime": {
     "end_time": "2024-10-23T03:41:12.852716Z",
     "start_time": "2024-10-23T03:41:12.847054Z"
    }
   },
   "cell_type": "code",
   "source": [
    "# Easy: uniform between 7 and 10. 5 total requests. \n",
    "easy_requests = [float(round(num, 2)) for num in np.random.uniform(7, 10, 5)]\n",
    "\n",
    "# Medium: uniform between 5 and 20. 30 total requests. \n",
    "medium_requests = [float(round(num, 2)) for num in np.random.uniform(5, 20, 30)]\n",
    "\n",
    "# Hard: 80 examples from a bimodal distribution between 10 and 90  \n",
    "# Generate two sets of samples, one peaking near 10 and the other near 90\n",
    "n = 80\n",
    "samples1 = np.random.normal(15, 5, int(n/2))  # Mean of 15, standard deviation of 5\n",
    "samples2 = np.random.normal(85, 5, int(n/2))  # Mean of 85, standard deviation of 5\n",
    "\n",
    "# Combine them to form a bimodal distribution\n",
    "bimodal_samples = np.concatenate((samples1, samples2))\n",
    "\n",
    "# Clip values to ensure they stay between 10 and 90, and round to 2 decimal points\n",
    "hard_requests = [float(round(np.clip(sample, 10, 90), 2)) for sample in bimodal_samples]\n",
    "\n",
    "print(f\"Easy: {easy_requests}\")\n",
    "print(f\"Medium: {medium_requests}\")\n",
    "print(f\"Hard: {hard_requests}\")\n",
    "\n"
   ],
   "id": "4d75480a35c3b294",
   "outputs": [
    {
     "name": "stdout",
     "output_type": "stream",
     "text": [
      "Easy: [7.95, 9.35, 9.35, 8.27, 7.63]\n",
      "Medium: [18.48, 11.28, 7.19, 14.68, 18.11, 7.76, 18.85, 6.02, 17.64, 5.02, 15.82, 13.62, 9.62, 19.01, 11.57, 12.1, 9.05, 11.05, 15.82, 11.57, 13.02, 7.63, 12.33, 7.47, 9.32, 7.64, 17.91, 18.18, 15.51, 5.35]\n",
      "Hard: [16.25, 14.16, 21.58, 20.36, 11.69, 18.41, 16.13, 15.3, 25.46, 26.64, 15.54, 16.64, 12.22, 27.98, 16.28, 12.92, 21.9, 10.23, 10.0, 18.8, 10.91, 21.85, 18.72, 14.06, 13.89, 10.98, 12.42, 19.53, 24.25, 12.61, 29.61, 14.27, 22.86, 12.89, 17.4, 17.6, 10.0, 15.82, 10.0, 21.78, 90.0, 89.68, 87.57, 83.64, 90.0, 74.41, 86.07, 84.76, 73.45, 84.11, 84.79, 87.2, 89.63, 86.98, 87.1, 90.0, 89.48, 85.83, 86.22, 77.94, 75.5, 81.31, 80.44, 90.0, 88.94, 85.1, 78.96, 80.9, 75.74, 85.71, 90.0, 83.16, 84.42, 87.58, 75.54, 74.13, 85.62, 74.22, 77.43, 89.32]\n"
     ]
    }
   ],
   "execution_count": 16
  },
  {
   "metadata": {
    "ExecuteTime": {
     "end_time": "2024-10-23T03:40:30.223680Z",
     "start_time": "2024-10-23T03:40:30.218502Z"
    }
   },
   "cell_type": "code",
   "source": [
    "import numpy as np\n",
    "\n",
    "# Generate two sets of samples, one peaking near 10 and the other near 90\n",
    "n = 80\n",
    "samples1 = np.random.normal(15, 5, int(n/2))  # Mean of 15, standard deviation of 5\n",
    "samples2 = np.random.normal(85, 5, int(n/2))  # Mean of 85, standard deviation of 5\n",
    "\n",
    "# Combine them to form a bimodal distribution\n",
    "bimodal_samples = np.concatenate((samples1, samples2))\n",
    "\n",
    "# Clip values to ensure they stay between 10 and 90, and round to 2 decimal points\n",
    "bimodal_samples = [float(round(np.clip(sample, 10, 90), 2)) for sample in bimodal_samples]\n",
    "\n",
    "print(bimodal_samples)\n",
    "\n"
   ],
   "id": "627c9045706fd6a5",
   "outputs": [
    {
     "name": "stdout",
     "output_type": "stream",
     "text": [
      "[10.0, 21.23, 16.68, 15.47, 10.0, 14.83, 12.3, 16.4, 16.53, 11.75, 13.05, 10.0, 12.04, 12.4, 10.0, 18.39, 23.54, 24.16, 11.9, 25.77, 16.47, 19.36, 15.42, 17.4, 17.14, 10.68, 16.17, 14.1, 12.97, 10.0, 10.0, 21.88, 22.55, 11.83, 27.7, 28.79, 16.97, 18.95, 10.0, 15.54, 78.82, 89.52, 81.79, 90.0, 90.0, 89.79, 78.66, 84.26, 77.29, 90.0, 90.0, 79.86, 86.52, 89.29, 87.75, 90.0, 85.96, 86.42, 82.59, 85.1, 83.5, 90.0, 75.1, 88.11, 88.82, 87.02, 87.21, 85.8, 79.94, 76.98, 90.0, 84.19, 86.25, 86.0, 85.73, 85.99, 80.11, 81.17, 89.93, 81.4]\n"
     ]
    }
   ],
   "execution_count": 15
  },
  {
   "metadata": {},
   "cell_type": "code",
   "outputs": [],
   "execution_count": null,
   "source": "",
   "id": "a3fe3ba0e7485eb7"
  }
 ],
 "metadata": {
  "kernelspec": {
   "display_name": "Python 3",
   "language": "python",
   "name": "python3"
  },
  "language_info": {
   "codemirror_mode": {
    "name": "ipython",
    "version": 2
   },
   "file_extension": ".py",
   "mimetype": "text/x-python",
   "name": "python",
   "nbconvert_exporter": "python",
   "pygments_lexer": "ipython2",
   "version": "2.7.6"
  }
 },
 "nbformat": 4,
 "nbformat_minor": 5
}
